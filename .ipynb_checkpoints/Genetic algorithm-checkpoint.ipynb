{
 "cells": [
  {
   "cell_type": "code",
   "execution_count": 23,
   "metadata": {},
   "outputs": [],
   "source": [
    "import random\n",
    "\n",
    "class Chromosome():\n",
    "    def __init__(self, Func, x = None, y = None):\n",
    "        self.x = x\n",
    "        self.y = y\n",
    "        self.Func = Func\n",
    "        self.fitness = None\n",
    "    \n",
    "    def Crossover(self, other):\n",
    "        child1 = Chromosome(self.Func, self.x, other.y)\n",
    "        child2 = Chromosome(self.Func, other.x, self.y)\n",
    "        return (child1, child2)\n",
    "    \n",
    "    def Mutate(self, threshold):\n",
    "        self.x = self.x + random.uniform(-threshold, threshold) if random.random() > 0.9 else self.x\n",
    "        self.y = self.y + random.uniform(-threshold, threshold) if random.random() > 0.9 else self.y\n",
    "    \n",
    "    def RandInst(self, xmin, xmax, ymin, ymax):\n",
    "        self.x = random.uniform(xmin, xmax)\n",
    "        self.y = random.uniform(ymin, ymax)\n",
    "    \n",
    "    def FF(self):\n",
    "        if self.fitness is None:\n",
    "            self.fitness = self.Func(self.x, self.y)\n",
    "        return self.fitness\n",
    "    \n",
    "class GeneticAlgorithm():\n",
    "    def __init__(self, Func, PopSize = 50, GenLimit = 100, TournamentSize = 2, Elite = 5,\n",
    "                 xmin = -50, xmax = 50, ymin = -50, ymax = 50):\n",
    "        self.Func = Func\n",
    "        self.PopSize = PopSize\n",
    "        self.TournamentSize = TournamentSize\n",
    "        self.Elite = Elite\n",
    "        self.GenLimit = GenLimit\n",
    "        self.Population = []\n",
    "        self.TemporaryPopulation = [0 for i in range(2*PopSize)]\n",
    "        self.PopulationInit(xmin, xmax, ymin, ymax)\n",
    "        self.History = []\n",
    "    \n",
    "    def Run(self):\n",
    "        self.EvaluateFF(self.Population)\n",
    "        self.History.append(self.MeanFF())\n",
    "        for i in range(self.GenLimit):\n",
    "            self.Offsprings()\n",
    "            self.Mutation()\n",
    "            self.EvaluateFF(self.TemporaryPopulation)\n",
    "            self.NewPopulation()\n",
    "            self.History.append(self.MeanFF())\n",
    "    \n",
    "    def PopulationInit(self, xmin, xmax, ymin, ymax):\n",
    "        for i in range(self.PopSize):\n",
    "            self.Population.append(Chromosome(self.Func))\n",
    "            self.Population[i].RandInst(xmin, xmax, ymin, ymax)\n",
    "    \n",
    "    def EvaluateFF(self, Pop):\n",
    "        for i in range(len(Pop)):\n",
    "            Pop[i].FF()\n",
    "    \n",
    "    def Selection(self):\n",
    "        Candidates = random.choices(self.Population, k=self.TournamentSize)\n",
    "        best = 0\n",
    "        for i in range(len(Candidates)):\n",
    "            if Candidates[i].FF() < Candidates[best].FF():\n",
    "                best = i\n",
    "        return Candidates[best]\n",
    "        \n",
    "    def Offsprings(self):\n",
    "        for i in range(self.PopSize):\n",
    "            parent1 = self.Selection()\n",
    "            parent2 = self.Selection()\n",
    "            child1, child2 = parent1.Crossover(parent2)\n",
    "            self.TemporaryPopulation[i] = child1\n",
    "            self.TemporaryPopulation[i+self.PopSize] = child2\n",
    "            \n",
    "    def Mutation(self):\n",
    "        for i in range(len(self.TemporaryPopulation)):\n",
    "            self.TemporaryPopulation[i].Mutate(1)\n",
    "    \n",
    "    def NewPopulation(self):\n",
    "        sorted(self.Population, key = lambda x: x.FF())\n",
    "        sorted(self.TemporaryPopulation, key = lambda x: x.FF())\n",
    "        j=0\n",
    "        for i in range(self.Elite):\n",
    "            if self.Population[i].FF() > self.TemporaryPopulation[j].FF():\n",
    "                self.Population[i] = self.TemporaryPopulation[j]\n",
    "                j+=1\n",
    "        for i in range(self.Elite, self.PopSize):\n",
    "            self.Population[i] = self.TemporaryPopulation[j]\n",
    "            j+=1\n",
    "            \n",
    "    def MeanFF(self):\n",
    "        SumFF = 0\n",
    "        for i in range(len(self.Population)):\n",
    "            SumFF = self.Population[i].FF()\n",
    "        return SumFF/len(self.Population)\n",
    "        \n",
    "            "
   ]
  },
  {
   "cell_type": "code",
   "execution_count": 24,
   "metadata": {},
   "outputs": [],
   "source": [
    "def func(x, y):\n",
    "    return (x + 2*y - 7)**2 + (2*x + y - 5)**2"
   ]
  },
  {
   "cell_type": "code",
   "execution_count": 25,
   "metadata": {},
   "outputs": [],
   "source": [
    "G = GeneticAlgorithm(func, PopSize = 100, GenLimit = 40, TournamentSize = 4)\n",
    "G.Run()"
   ]
  },
  {
   "cell_type": "code",
   "execution_count": 26,
   "metadata": {},
   "outputs": [
    {
     "name": "stdout",
     "output_type": "stream",
     "text": [
      "x = 0.8461888832802902\n",
      "y = 3.1588464660428484\n",
      "F(0.846189, 3.158846) = 0.048991\n"
     ]
    }
   ],
   "source": [
    "print('x =', G.Population[0].x)\n",
    "print('y =', G.Population[0].y)\n",
    "print('F(%f, %f) = %f' % (G.Population[0].x, G.Population[0].y, G.Population[0].FF()))"
   ]
  },
  {
   "cell_type": "code",
   "execution_count": 27,
   "metadata": {},
   "outputs": [
    {
     "data": {
      "image/png": "[encoded data removed]",
      "text/plain": [
       "<Figure size 864x576 with 1 Axes>"
      ]
     },
     "metadata": {
      "needs_background": "light"
     },
     "output_type": "display_data"
    }
   ],
   "source": [
    "import matplotlib.pyplot as plt\n",
    "\n",
    "start = 5\n",
    "stop = len(G.History)\n",
    "step = 1\n",
    "\n",
    "fig = plt.figure(figsize=(12,8))\n",
    "graph0 = plt.plot([i for i in range(start, stop, step)], G.History[start:stop:step], color = 'black')\n",
    "grid1 = plt.grid(True)\n",
    "plt.show()"
   ]
  }
 ],
 "metadata": {
  "kernelspec": {
   "display_name": "Python 3",
   "language": "python",
   "name": "python3"
  },
  "language_info": {
   "codemirror_mode": {
    "name": "ipython",
    "version": 3
   },
   "file_extension": ".py",
   "mimetype": "text/x-python",
   "name": "python",
   "nbconvert_exporter": "python",
   "pygments_lexer": "ipython3",
   "version": "3.7.1"
  }
 },
 "nbformat": 4,
 "nbformat_minor": 2
}
